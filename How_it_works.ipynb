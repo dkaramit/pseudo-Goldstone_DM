{
 "cells": [
  {
   "cell_type": "code",
   "execution_count": 1,
   "metadata": {},
   "outputs": [],
   "source": [
    "#load it like this\n",
    "import Pseudo_Goldstone as pg"
   ]
  },
  {
   "cell_type": "code",
   "execution_count": 2,
   "metadata": {},
   "outputs": [
    {
     "name": "stdout",
     "output_type": "stream",
     "text": [
      "Checking vanishing of the first derivatives of the potential...\n",
      "The conditions are correct!\n",
      "calculating 2-point interactions\n",
      "calculating 3-point interactions\n",
      "calculating 4-point interactions\n",
      "Checking Vertices...\n",
      "The interactions have been identified correctly!!\n",
      "Writing Vertices (Feynman Rules and mass matrix entries)...\n",
      "All Done!\n"
     ]
    }
   ],
   "source": [
    "dimN=2\n",
    "gauge='feyn'\n",
    "Fields ,ParameterSymbol=pg.Definitions(dimN,gauge)\n",
    "\n",
    "LMassInt=pg.GetLagrangian(Fields)\n",
    "Point_N=pg.IdentifyInteractions(LMassInt,Fields ,Parallel=True)\n",
    "pg.Make_Feynman_Rules(Point_N)\n",
    "pg.CheckInteractions(Point_N,LMassInt,Fields)\n",
    "pg.StoreVert(Point_N,Fields,ParameterSymbol,dimN,gauge,Directory='ttt')"
   ]
  },
  {
   "cell_type": "code",
   "execution_count": null,
   "metadata": {},
   "outputs": [],
   "source": []
  },
  {
   "cell_type": "code",
   "execution_count": null,
   "metadata": {},
   "outputs": [],
   "source": []
  },
  {
   "cell_type": "code",
   "execution_count": null,
   "metadata": {},
   "outputs": [],
   "source": []
  },
  {
   "cell_type": "code",
   "execution_count": null,
   "metadata": {},
   "outputs": [],
   "source": []
  }
 ],
 "metadata": {
  "kernelspec": {
   "display_name": "Python 2",
   "language": "python",
   "name": "python2"
  },
  "language_info": {
   "codemirror_mode": {
    "name": "ipython",
    "version": 2
   },
   "file_extension": ".py",
   "mimetype": "text/x-python",
   "name": "python",
   "nbconvert_exporter": "python",
   "pygments_lexer": "ipython2",
   "version": "2.7.15"
  }
 },
 "nbformat": 4,
 "nbformat_minor": 2
}
