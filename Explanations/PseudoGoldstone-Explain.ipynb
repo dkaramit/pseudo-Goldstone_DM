{
 "cells": [
  {
   "cell_type": "markdown",
   "metadata": {},
   "source": [
    "These are the packages we need:"
   ]
  },
  {
   "cell_type": "code",
   "execution_count": 1,
   "metadata": {
    "collapsed": true
   },
   "outputs": [],
   "source": [
    "\n",
    "\n",
    "import sympy as sp\n",
    "import numpy as np\n",
    "from itertools import combinations_with_replacement as itTuples\n",
    "import os.path"
   ]
  },
  {
   "cell_type": "markdown",
   "metadata": {
    "collapsed": true
   },
   "source": [
    "Generates al possible combination --of length k-- from a List of elements"
   ]
  },
  {
   "cell_type": "code",
   "execution_count": 2,
   "metadata": {
    "collapsed": true
   },
   "outputs": [],
   "source": [
    "def Tuples(List,k):\n",
    "    #Generates al possible combination --of length k-- from a List of elements\n",
    "    return list(itTuples(List,k))"
   ]
  },
  {
   "cell_type": "markdown",
   "metadata": {},
   "source": [
    "MatrixProd([list1,list2,list3,...]) gives np.dot(list1,np.dot(list2,np.dot(list3,...))\n",
    " "
   ]
  },
  {
   "cell_type": "code",
   "execution_count": 3,
   "metadata": {
    "collapsed": true
   },
   "outputs": [],
   "source": [
    "def MatrixProd(a):\n",
    "    n=len(a)-1\n",
    "    if n!=0:\n",
    "        return np.dot(MatrixProd(a[:n]),a[n])\n",
    "    else:\n",
    "        return a[0]\n",
    "    "
   ]
  },
  {
   "cell_type": "markdown",
   "metadata": {},
   "source": [
    "Calculates the derivative of L with respect to a: $\\frac{dL}{da}$.\n",
    "\n",
    "If a is a list, ti calculates the derivative $\\frac{d^{n}L}{da_{1}da_{2}...da_{n}} $"
   ]
  },
  {
   "cell_type": "code",
   "execution_count": 4,
   "metadata": {
    "collapsed": true
   },
   "outputs": [],
   "source": [
    "def Deriv(L,a):\n",
    " \n",
    "    try:  \n",
    "        n=len(a)-1\n",
    "        if n>=0:\n",
    "            return sp.diff(Deriv(L,a[:n]),a[n])\n",
    "        else:\n",
    "            return L\n",
    "    except:\n",
    "        return sp.diff(L,a)"
   ]
  },
  {
   "cell_type": "markdown",
   "metadata": {
    "collapsed": true
   },
   "source": [
    "Define the paricles, parameters of the model for SU(DimN).\n",
    "\n",
    "If Gauge='un', the G^{0}, G^{+} and G^{-} are not defined.\n",
    "\n",
    "Also, this function defines the various usefun rules for substitution needed, such as subs0, which \n",
    "sets all fields to 0 (needed for idendifying the vertices and minimizing the potential)."
   ]
  },
  {
   "cell_type": "code",
   "execution_count": 5,
   "metadata": {
    "collapsed": true
   },
   "outputs": [],
   "source": [
    "def Definitions(DimN, Gauge):\n",
    "\n",
    "    \n",
    "    global gauge, dimN\n",
    "    global dimRange, indexRange, mPhi, mPhip, v, vPhi, muH, lamH, lamHPhi, lamPhi\n",
    "    global Gp, H0, Gm, H0t, h, G0, H, Ht, Phi, Phit, chi, rho, phi, s\n",
    "    global Fields, sqrt2, subs0, subsvev, subsexpand\n",
    "    \n",
    "    dimN=DimN\n",
    "    gauge=Gauge\n",
    "    \n",
    "    dimRange=range(1,dimN+1);\n",
    "    dimRangeM=range(dimN-1)\n",
    "    indexRange=range(0,dimN);\n",
    "\n",
    "    sqrt2=sp.sqrt(2);\n",
    "\n",
    "    \n",
    "    mPhi=np.array( sp.symbols('mPhi(1:{})(1:{})'.format(str(dimN+1),str(dimN+1))   )            ).reshape(dimN,dimN)\n",
    "    mPhip=np.array( sp.symbols('mPhip(1:{})(1:{})'.format(str(dimN+1),str(dimN+1))   )          ).reshape(dimN,dimN)\n",
    "    \n",
    "    #make mPhi symmetric (faster than np.triu(mPhi,+1).T+np.triu(mPhi))\n",
    "    for i in range(dimN):\n",
    "        for j in range(i+1,dimN):\n",
    "            mPhi[j][i]=mPhi[i][j]\n",
    "    \n",
    "    #make mPhip hermitian (faster than np.conjugate(np.triu(mPhi,+1).T)+np.triu(mPhi))\n",
    "    for i in range(dimN):\n",
    "        for j in range(i+1,dimN):\n",
    "            mPhip[j][i]=sp.conjugate(mPhip[i][j])\n",
    "    #make the diagonal  real         \n",
    "    for i in range(dimN):\n",
    "        exec( 'mPhip[{}][{}]=sp.Symbol(  \\'mPhip{}{}\\'  ,real=True)'.format(str(i),str(i),str(i+1),str(i+1)) )\n",
    "\n",
    "        \n",
    "\n",
    "    \n",
    "    Phi = sp.symbols('Phi1:{}'.format(str(dimN+1)))\n",
    "    Phit = sp.symbols('Phi1:{}t'.format(str(dimN+1)))\n",
    "\n",
    "    if gauge=='un':\n",
    "        H0, H0t=sp.symbols('H0, H0t')\n",
    "        H = [0,H0];\n",
    "        Ht = [0, H0t];\n",
    "    else:    \n",
    "        H0,H0t,Gp,Gm=sp.symbols('H0,H0t,Gp,Gm')\n",
    "        H = [Gp,H0];\n",
    "        Ht = [Gm, H0t];\n",
    "\n",
    "    \n",
    "    \n",
    "    ##################--Declare symbols for expaned scalars \n",
    "    phi = sp.symbols('phi1:{}'.format(str(dimN)))\n",
    "    s = sp.symbols('s1:{}'.format(str(dimN)))\n",
    "    h, G0 , chi, rho=sp.symbols('h G0 chi rho')\n",
    "\n",
    "    \n",
    "    \n",
    "    v=sp.Symbol('v',positive=True);\n",
    "    vPhi=sp.Symbol('vPhi',positive=True);\n",
    "    muH=sp.Symbol('muH');\n",
    "    lamH=sp.Symbol('lamH',real=True);\n",
    "    lamHPhi=sp.Symbol('lamHPhi',real=True);\n",
    "    lamPhi=sp.Symbol('lamPhi',real=True);\n",
    "\n",
    "\n",
    "\n",
    "   \n",
    "\n",
    "    \n",
    "    #Expand the fields at their vevs\n",
    "    if gauge=='un':\n",
    "        subsexpand =np.array(\\\n",
    "                     [(H0,(h+v)/sqrt2 ),(H0t,(h+v)/sqrt2 ),\\\n",
    "                      (Phi[dimN-1],(rho+ sp.I*chi+vPhi)/sqrt2 ),\\\n",
    "                      (Phit[dimN-1],(rho-sp.I*chi+vPhi)/sqrt2 )]+ \\\n",
    "                     [(Phi[i], (phi[i]+sp.I*s[i])/sqrt2   ) for i in dimRangeM]+\\\n",
    "                     [(Phit[i],(phi[i]-sp.I*s[i])/sqrt2)  for i in dimRangeM])\n",
    "                \n",
    "        Fields=np.array(sp.flatten([h,rho,s,chi,phi]))        \n",
    "    else:\n",
    "        subsexpand = np.array(\\\n",
    "                      [(H0,(h+sp.I*G0+v)/sqrt2 ),(H0t,(h-sp.I*G0+v)/sqrt2 ),\\\n",
    "                      (Phi[dimN-1], (rho+sp.I*chi+vPhi)/sqrt2 ),\\\n",
    "                      (Phit[dimN-1],(rho-sp.I*chi+vPhi)/sqrt2 )]+ \\\n",
    "                     [(Phi[i], (phi[i]+sp.I*s[i])/sqrt2) for i in dimRangeM]+\\\n",
    "                     [(Phit[i],(phi[i]-sp.I*s[i])/sqrt2) for i in dimRangeM])\n",
    "        \n",
    "        Fields=np.array(sp.flatten([h,rho,s,chi,phi,G0,Gp,Gm]))\n",
    "        \n",
    "        \n",
    "    subsvev = np.array(\\\n",
    "                      [(H0,v/sqrt2 ),(H0t,v/sqrt2 ),\\\n",
    "                       (G0,0),(Gm,0),(Gp,0),\\\n",
    "                      (Phi[dimN-1], vPhi/sqrt2 ),\\\n",
    "                      (Phit[dimN-1],vPhi/sqrt2 )]+ \\\n",
    "                     [(Phi[i], 0) for i in dimRangeM]+\\\n",
    "                     [(Phit[i],0) for i in dimRangeM])\n",
    "    subs0=[ (i, 0) for i in Fields]\n"
   ]
  },
  {
   "cell_type": "code",
   "execution_count": null,
   "metadata": {
    "collapsed": true
   },
   "outputs": [],
   "source": []
  },
  {
   "cell_type": "markdown",
   "metadata": {
    "collapsed": true
   },
   "source": [
    "Should run after Definitions(DimN,Gauge)!\n",
    "Since all parameters, fields and rules are global parameters in Definitions,\n",
    "GetLagrangian() takes them and calculates the Potential and Lagrangian.\n",
    "Here we define the substitution rules for the minimization of the potential.\n",
    "The variable constV is the constant value of the potential, which helps us test the minimization conditions."
   ]
  },
  {
   "cell_type": "code",
   "execution_count": 6,
   "metadata": {
    "collapsed": true
   },
   "outputs": [],
   "source": [
    "def GetLagrangian():\n",
    "\n",
    "    \n",
    "    global V, LMassInt, constV, subsmin\n",
    "    \n",
    "    mPhi2=[[i**2for i in x] for x in mPhi]\n",
    "    mPhi2C=[[sp.conjugate(i)**2for i in x] for x in mPhi]\n",
    "    mPhip2=[[i**2for i in x] for x in mPhip]\n",
    "\n",
    "    V0=-muH**2/2*MatrixProd([H,Ht])+lamH/2*MatrixProd([H,Ht])**2+lamPhi/2*MatrixProd([Phi,Phit])**2\\\n",
    "    +lamHPhi*MatrixProd([H,Ht])*MatrixProd([Phi,Phit] );\n",
    "\n",
    "    Vsoft=MatrixProd([Phi,mPhi2,Phi])+MatrixProd([Phit,mPhi2C,Phit])+MatrixProd([Phit,mPhip2,Phi])\n",
    "\n",
    "\n",
    "    V=(V0+Vsoft)#.subs(subsexpand)\n",
    "    \n",
    "    subsmin= [ (mPhi[i][dimN-1], sp.I/sqrt2*mPhip[dimN-1][i] ) for i in range(0,dimN-1)]+ \\\n",
    "    [(muH, sp.sqrt(v**2*lamH + vPhi**2*lamHPhi)),(mPhip[dimN-1][dimN-1],\\\n",
    "    -sp.sqrt(-2*lamHPhi*v**2 - 2*lamPhi*vPhi**2 - 8*mPhi[dimN-1][dimN-1]**2)/2),\n",
    "    (sp.conjugate(mPhi[dimN-1][dimN-1])**2,mPhi[dimN-1][dimN-1]**2 )]\n",
    "\n",
    "    \n",
    "    constV=sp.simplify((V.subs(subsmin).subs(subsvev)) )\n",
    "    \n",
    "    \n",
    "    LMassInt = -((V.subs(subsmin)).subs(subsexpand));"
   ]
  },
  {
   "cell_type": "markdown",
   "metadata": {},
   "source": [
    "# For subsmin:\n",
    "\n",
    "there are four --for the SU(2)-- independent equations for the minimization of the potential."
   ]
  },
  {
   "cell_type": "code",
   "execution_count": 7,
   "metadata": {},
   "outputs": [
    {
     "name": "stdout",
     "output_type": "stream",
     "text": [
      "v*(lamH*v**2 + lamHPhi*vPhi**2 - re(muH)**2 - 2*I*re(muH)*im(muH) + im(muH)**2)/2\n",
      "vPhi*(lamHPhi*v**2 + lamPhi*vPhi**2 + 2*mPhip22**2 + 4*re(mPhi22)**2 - 4*im(mPhi22)**2)/2\n",
      "2*vPhi*(-2*re(mPhi12)*im(mPhi12) + re(mPhip12)*im(mPhip12))\n",
      "-4*vPhi*re(mPhi22)*im(mPhi22)\n",
      "vPhi*(2*re(mPhi12)**2 + re(mPhip12)**2 - 2*im(mPhi12)**2 - im(mPhip12)**2)\n",
      "0\n",
      "0\n",
      "0\n"
     ]
    }
   ],
   "source": [
    "Definitions(2,'feyn')\n",
    "GetLagrangian()\n",
    "\n",
    "for i in Fields:\n",
    "    print sp.simplify(sp.expand_complex(Deriv(V.subs(subsexpand),i ).subs(subs0)) )"
   ]
  },
  {
   "cell_type": "markdown",
   "metadata": {},
   "source": [
    "# For subsmin:\n",
    "\n",
    "there are five --for the SU(3)-- independent equations for the minimization of the potential."
   ]
  },
  {
   "cell_type": "code",
   "execution_count": 8,
   "metadata": {},
   "outputs": [
    {
     "name": "stdout",
     "output_type": "stream",
     "text": [
      "v*(lamH*v**2 + lamHPhi*vPhi**2 - re(muH)**2 - 2*I*re(muH)*im(muH) + im(muH)**2)/2\n",
      "vPhi*(lamHPhi*v**2 + lamPhi*vPhi**2 + 2*mPhip33**2 + 4*re(mPhi33)**2 - 4*im(mPhi33)**2)/2\n",
      "2*vPhi*(-2*re(mPhi13)*im(mPhi13) + re(mPhip13)*im(mPhip13))\n",
      "2*vPhi*(-2*re(mPhi23)*im(mPhi23) + re(mPhip23)*im(mPhip23))\n",
      "-4*vPhi*re(mPhi33)*im(mPhi33)\n",
      "vPhi*(2*re(mPhi13)**2 + re(mPhip13)**2 - 2*im(mPhi13)**2 - im(mPhip13)**2)\n",
      "vPhi*(2*re(mPhi23)**2 + re(mPhip23)**2 - 2*im(mPhi23)**2 - im(mPhip23)**2)\n",
      "0\n",
      "0\n",
      "0\n"
     ]
    }
   ],
   "source": [
    "Definitions(3,'feyn')\n",
    "GetLagrangian()\n",
    "\n",
    "for i in Fields:\n",
    "    print sp.simplify(sp.expand_complex(Deriv(V.subs(subsexpand),i ).subs(subs0)) )"
   ]
  },
  {
   "cell_type": "markdown",
   "metadata": {},
   "source": [
    "# For subsmin:\n",
    "\n",
    "there are eight --for the SU(6)-- independent equations for the minimization of the potential."
   ]
  },
  {
   "cell_type": "code",
   "execution_count": 9,
   "metadata": {},
   "outputs": [
    {
     "name": "stdout",
     "output_type": "stream",
     "text": [
      "v*(lamH*v**2 + lamHPhi*vPhi**2 - re(muH)**2 - 2*I*re(muH)*im(muH) + im(muH)**2)/2\n",
      "vPhi*(lamHPhi*v**2 + lamPhi*vPhi**2 + 2*mPhip66**2 + 4*re(mPhi66)**2 - 4*im(mPhi66)**2)/2\n",
      "2*vPhi*(-2*re(mPhi16)*im(mPhi16) + re(mPhip16)*im(mPhip16))\n",
      "2*vPhi*(-2*re(mPhi26)*im(mPhi26) + re(mPhip26)*im(mPhip26))\n",
      "2*vPhi*(-2*re(mPhi36)*im(mPhi36) + re(mPhip36)*im(mPhip36))\n",
      "2*vPhi*(-2*re(mPhi46)*im(mPhi46) + re(mPhip46)*im(mPhip46))\n",
      "2*vPhi*(-2*re(mPhi56)*im(mPhi56) + re(mPhip56)*im(mPhip56))\n",
      "-4*vPhi*re(mPhi66)*im(mPhi66)\n",
      "vPhi*(2*re(mPhi16)**2 + re(mPhip16)**2 - 2*im(mPhi16)**2 - im(mPhip16)**2)\n",
      "vPhi*(2*re(mPhi26)**2 + re(mPhip26)**2 - 2*im(mPhi26)**2 - im(mPhip26)**2)\n",
      "vPhi*(2*re(mPhi36)**2 + re(mPhip36)**2 - 2*im(mPhi36)**2 - im(mPhip36)**2)\n",
      "vPhi*(2*re(mPhi46)**2 + re(mPhip46)**2 - 2*im(mPhi46)**2 - im(mPhip46)**2)\n",
      "vPhi*(2*re(mPhi56)**2 + re(mPhip56)**2 - 2*im(mPhi56)**2 - im(mPhip56)**2)\n",
      "0\n",
      "0\n",
      "0\n"
     ]
    }
   ],
   "source": [
    "Definitions(6,'feyn')\n",
    "GetLagrangian()\n",
    "\n",
    "for i in Fields:\n",
    "    print sp.simplify(sp.expand_complex(Deriv(V.subs(subsexpand),i ).subs(subs0)) )"
   ]
  },
  {
   "cell_type": "markdown",
   "metadata": {},
   "source": [
    "# So, There  are N+2 conditions for the minimization of the potential (given by subsmin)!"
   ]
  },
  {
   "cell_type": "code",
   "execution_count": null,
   "metadata": {
    "collapsed": true
   },
   "outputs": [],
   "source": []
  },
  {
   "cell_type": "markdown",
   "metadata": {
    "collapsed": true
   },
   "source": [
    "The function IdentifyInteractions() finds all two-, three, and four-point interaction terms of the Largrangian"
   ]
  },
  {
   "cell_type": "code",
   "execution_count": 10,
   "metadata": {
    "collapsed": true
   },
   "outputs": [],
   "source": [
    "def IdentifyInteractions():\n",
    "    global TwoPoint, ThreePoint, FourPoint,TypeOfVert\n",
    "    \n",
    "    TwoPoints = Tuples(Fields, 2)\n",
    "    ThreePoints = Tuples(Fields, 3)\n",
    "    FourPoints = Tuples(Fields, 4)\n",
    "    \n",
    "    TypeOfVert=['TwoPoint','ThreePoint','FourPoint']\n",
    "\n",
    "    LMassIntfinal=0\n",
    "    for TypeV in TypeOfVert:\n",
    "        print 'Calculating '+TypeV+' interactions...'\n",
    "        exec(TypeV+'=[]')\n",
    "        \n",
    "        for i in eval(TypeV+'s'):\n",
    "            SymF=np.product([ sp.factorial(i.count(j)) for j in set(i)])\n",
    "            tmpval=sp.simplify(1/SymF*Deriv(LMassInt,i).subs(subs0))\n",
    "            if tmpval!=0:\n",
    "                eval(TypeV+'.append([i, tmpval, SymF])')\n",
    "            \n",
    "        LMassIntfinal+=np.sum([ np.product(tmpi[0])*tmpi[1] for tmpi in eval(TypeV)])\n",
    "    \n",
    "    TwoPoint=eval('TwoPoint')\n",
    "    ThreePoint=eval('ThreePoint')\n",
    "    FourPoint=eval('FourPoint')"
   ]
  },
  {
   "cell_type": "markdown",
   "metadata": {},
   "source": [
    "The function prtcls, gets a list of particles (prts) and returns a sorted list of them (needed for use in FRules and VertexValue)\n",
    "\n",
    "Example:\n",
    "prtcls(['z','b'])---->('b', 'z')"
   ]
  },
  {
   "cell_type": "code",
   "execution_count": 11,
   "metadata": {
    "collapsed": true
   },
   "outputs": [],
   "source": [
    "def prtcls(prts):\n",
    "    return  tuple(sorted( prts ) )"
   ]
  },
  {
   "cell_type": "code",
   "execution_count": null,
   "metadata": {
    "collapsed": true
   },
   "outputs": [],
   "source": []
  },
  {
   "cell_type": "markdown",
   "metadata": {},
   "source": [
    "FRules finds the feyman rules and mass matrix entries of all particles and stores then in dictionaries.\n",
    "Then we can use VertexValue in order to search for these Feynman rules."
   ]
  },
  {
   "cell_type": "code",
   "execution_count": 12,
   "metadata": {
    "collapsed": true
   },
   "outputs": [],
   "source": [
    "def FRules(TwoPointV,ThreePointV,FourPointV):\n",
    "    global DictMassEntries, P3, P4\n",
    "    \n",
    "    DictMassEntries={}\n",
    "    for i in TwoPointV:\n",
    "        DictMassEntries[prtcls( map( str, i[0] ) ) ]=i[1]*(-i[2])\n",
    "\n",
    "\n",
    "    P3={}\n",
    "    for i in ThreePointV:\n",
    "        P3[prtcls( map( str, i[0] ) ) ]=i[1]*(-sp.I*i[2])\n",
    "\n",
    "\n",
    "    P4={}\n",
    "    for i in FourPointV:\n",
    "        P4[prtcls( map( str, i[0] ) ) ]=i[1]*(-sp.I*i[2])    \n",
    "\n",
    "    \n",
    "   "
   ]
  },
  {
   "cell_type": "markdown",
   "metadata": {},
   "source": [
    "VertexValue(particle_1, particle_2, ...) gets a number of particles, and returns the  corresponding Feynman rule (or \n",
    "mass matrix entry, if the input consists of two particles)."
   ]
  },
  {
   "cell_type": "code",
   "execution_count": 13,
   "metadata": {
    "collapsed": true
   },
   "outputs": [],
   "source": [
    "def VertexValue(*particles):\n",
    "    lp=len(particles)\n",
    "    if lp==2:\n",
    "        try:\n",
    "            return DictMassEntries[ prtcls([str(particles[0] ),str(particles[1] )]) ]\n",
    "        except:\n",
    "            return 0\n",
    "\n",
    "    else:\n",
    "        try:\n",
    "            return eval('P'+str(lp)+'[ prtcls(   map(str, particles)  ) ]'   )\n",
    "        except:\n",
    "            return 0\n",
    "                "
   ]
  },
  {
   "cell_type": "markdown",
   "metadata": {},
   "source": [
    "GetInteractions can check the indentification of the interactions, the minimization of the potential, and \n",
    "print the Feynamn rules in Frules/SUDimN/. \n",
    "\n",
    "The options are:\n",
    "\n",
    "1)GetInteractions(testL=True), which checks the indentification of the interactions  \n",
    "\n",
    "2)GetInteractions(testV=True), which checks the minimization of the Potential\n",
    "\n",
    "3)GetInteractions(StoreVert=True), which prints files with the Feynman rules and mass matrix entries\n",
    "\n",
    "GetInteractions() is equivalent to GetInteractions(testL=False,testV=False,StoreVert=False)"
   ]
  },
  {
   "cell_type": "code",
   "execution_count": 14,
   "metadata": {
    "collapsed": true
   },
   "outputs": [],
   "source": [
    "OPTIONS=['testL','testV','StoreVert']\n",
    "DEF_OPT={'testL':False,'testV':False,'StoreVert':False}\n",
    "\n",
    "def GetInteractions(**opts):\n",
    "\n",
    "    if len(opts) == 0:\n",
    "        print 'Using default options...'\n",
    "        opts=DEF_OPT\n",
    "        \n",
    "\n",
    "            \n",
    "    for i in opts:\n",
    "        if not (i in OPTIONS):\n",
    "            print 'invalid option '+i\n",
    "            print 'availabe options: ' \n",
    "            print OPTIONS\n",
    "            return 'ERR:: invalid option. Abort!'\n",
    "        \n",
    "    xtmp=opts.copy() \n",
    "    for i in OPTIONS:\n",
    "        if not (i in opts):\n",
    "            xtmp.update({i:DEF_OPT[i]})\n",
    "    \n",
    "    testL=xtmp['testL']\n",
    "    testV=xtmp['testV']\n",
    "    StoreVert=xtmp['StoreVert']\n",
    "    \n",
    "    if testL!=True:\n",
    "        testL=False\n",
    "    if testV!=True:\n",
    "        testV=False    \n",
    "    if StoreVert!=True:\n",
    "        StoreVert=False\n",
    "\n",
    "    if testV:\n",
    "        print 'Checking vanishing of the first derivatives of the potential potential...'\n",
    "        minV=np.unique(map(lambda i: \\\n",
    "                 sp.simplify(Deriv(V.subs(subsexpand),i ).subs(subs0).subs(subsmin) ),Fields))\n",
    "        if minV==[0]:\n",
    "            print 'The conditions are correct!'\n",
    "        else:\n",
    "            print 'The potential is not minimized correctlly...'\n",
    "        \n",
    "\n",
    "\n",
    "    if testL:\n",
    "        global    LMassIntfinal\n",
    "        print 'Checking Vertices...'\n",
    "        LMassIntfinal=0\n",
    "        for TypeV in TypeOfVert:\n",
    "            LMassIntfinal+=np.sum([ np.product(tmpi[0])*tmpi[1] for tmpi in eval(TypeV)])\n",
    "        \n",
    "        if (sp.simplify(LMassIntfinal-LMassInt-constV))==0:\n",
    "            print 'The interactions have been identified correctly!!'\n",
    "        else:\n",
    "            print 'The final Lagrangian is not the same as the initial one... (check it!)'    \n",
    "           \n",
    "        \n",
    "    if StoreVert:\n",
    "        print 'Writing Vertices (Feynman Rules and mass matrix entries)...'\n",
    "        dirV='Frules'\n",
    "        if not os.path.exists(dirV):\n",
    "            os.makedirs(dirV)\n",
    "\n",
    "\n",
    "        if not os.path.exists(dirV+\"/SU\" + str(dimN)):\n",
    "            os.makedirs(dirV+\"/SU\" + str(dimN))  \n",
    "\n",
    "\n",
    "\n",
    "        files=['TwoPoint','ThreePoint','FourPoint']\n",
    "\n",
    "\n",
    "        for file in files:\n",
    "            tmp = open(dirV+\"/SU\" + str(dimN)+ \"/SU\" + str(dimN)+\"_\" +file+\"_\"+gauge + \".vrt\",\"w\") \n",
    "            if file=='TwoPoint':\n",
    "                factorI=-1\n",
    "            else:\n",
    "                factorI=-sp.I\n",
    "            for i in eval(file):\n",
    "                particles=str(i[0])\n",
    "                \n",
    "                vertex=str(factorI*i[1]*i[2])\n",
    "\n",
    "                line='{:<40} {:<40} {:<0}'.format(particles, '|' , vertex)\n",
    "                #tmp.write( particles +\"|\\t|\"+ vertex + \"\\n\" ) \n",
    "                tmp.write( line +'\\n')\n",
    "            tmp.close()        \n",
    "    print 'All Done!'"
   ]
  },
  {
   "cell_type": "code",
   "execution_count": 15,
   "metadata": {},
   "outputs": [
    {
     "name": "stdout",
     "output_type": "stream",
     "text": [
      "Calculating TwoPoint interactions...\n",
      "Calculating ThreePoint interactions...\n",
      "Calculating FourPoint interactions...\n",
      "Checking vanishing of the first derivatives of the potential potential...\n",
      "The conditions are correct!\n",
      "Checking Vertices...\n",
      "The interactions have been identified correctly!!\n",
      "All Done!\n"
     ]
    }
   ],
   "source": [
    "Definitions(2,'feyn')\n",
    "GetLagrangian()\n",
    "IdentifyInteractions()\n",
    "GetInteractions(testV=True,testL=True)"
   ]
  },
  {
   "cell_type": "code",
   "execution_count": null,
   "metadata": {
    "collapsed": true
   },
   "outputs": [],
   "source": []
  },
  {
   "cell_type": "markdown",
   "metadata": {},
   "source": [
    "\n",
    "<b  style=\"font-size: 140%;\">\n",
    "Keep in mind that, since the Hessian can be written in various ways (the fields can be rearreanged), \n",
    "the diagonal elements must be positive.\n",
    "Among other things, as it turns out, $m_{\\phi_{NN}}^2$  must be real (which is also given by the firt derivative conditions)!\n",
    "</b>\n"
   ]
  },
  {
   "cell_type": "code",
   "execution_count": 16,
   "metadata": {},
   "outputs": [
    {
     "name": "stdout",
     "output_type": "stream",
     "text": [
      "Calculating TwoPoint interactions...\n",
      "Calculating ThreePoint interactions...\n",
      "Calculating FourPoint interactions...\n",
      "Using default options...\n",
      "All Done!\n",
      "--------------------------\n",
      "lamH*v**2\n",
      "lamPhi*vPhi**2\n",
      "lamHPhi*v**2/2 + lamPhi*vPhi**2/2 - mPhi11**2 + mPhip11**2 - conjugate(mPhi11)**2\n",
      "-4*mPhi22**2\n",
      "lamHPhi*v**2/2 + lamPhi*vPhi**2/2 + mPhi11**2 + mPhip11**2 + conjugate(mPhi11)**2\n"
     ]
    }
   ],
   "source": [
    "Definitions(2,'un')\n",
    "GetLagrangian()\n",
    "IdentifyInteractions()\n",
    "GetInteractions()\n",
    "FRules(TwoPoint,ThreePoint,FourPoint)\n",
    "print '--------------------------'\n",
    "for i in Fields:\n",
    "    tmp=sp.simplify(VertexValue(i,i))\n",
    "    if tmp!=0:\n",
    "        print tmp "
   ]
  },
  {
   "cell_type": "code",
   "execution_count": null,
   "metadata": {
    "collapsed": true
   },
   "outputs": [],
   "source": []
  }
 ],
 "metadata": {
  "kernelspec": {
   "display_name": "Python 2",
   "language": "python",
   "name": "python2"
  },
  "language_info": {
   "codemirror_mode": {
    "name": "ipython",
    "version": 2
   },
   "file_extension": ".py",
   "mimetype": "text/x-python",
   "name": "python",
   "nbconvert_exporter": "python",
   "pygments_lexer": "ipython2",
   "version": "2.7.15"
  }
 },
 "nbformat": 4,
 "nbformat_minor": 1
}
