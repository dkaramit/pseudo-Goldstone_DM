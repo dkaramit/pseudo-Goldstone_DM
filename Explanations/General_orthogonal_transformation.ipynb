{
 "cells": [
  {
   "cell_type": "markdown",
   "metadata": {},
   "source": [
    "# General orthogonal transformation "
   ]
  },
  {
   "cell_type": "code",
   "execution_count": 1,
   "metadata": {
    "collapsed": true
   },
   "outputs": [],
   "source": [
    "import sympy as sp\n",
    "import numpy as np\n",
    "\n",
    "from IPython.display import Math"
   ]
  },
  {
   "cell_type": "code",
   "execution_count": 2,
   "metadata": {
    "collapsed": true
   },
   "outputs": [],
   "source": [
    "def ViewMath(expr):\n",
    "    return Math(sp.latex(expr))\n",
    "\n",
    "sp.var('c1:10,s1:10,t1:10');"
   ]
  },
  {
   "cell_type": "markdown",
   "metadata": {},
   "source": [
    "### The 3-dimensional case"
   ]
  },
  {
   "cell_type": "code",
   "execution_count": 3,
   "metadata": {},
   "outputs": [
    {
     "data": {
      "text/latex": [
       "$$\\left[\\begin{matrix}1 & 0 & 0\\\\0 & 1 & 0\\\\0 & 0 & 1\\end{matrix}\\right]$$"
      ],
      "text/plain": [
       "<IPython.core.display.Math object>"
      ]
     },
     "execution_count": 3,
     "metadata": {},
     "output_type": "execute_result"
    }
   ],
   "source": [
    "c1=1/sp.sqrt(t1**2+1)\n",
    "s1=t1/sp.sqrt(t1**2+1)\n",
    "c2=1/sp.sqrt(t2**2+1)\n",
    "s2=t2/sp.sqrt(t2**2+1)\n",
    "c3=1/sp.sqrt(t3**2+1)\n",
    "s3=t3/sp.sqrt(t3**2+1)\n",
    "\n",
    "O1=np.matrix([[c1,-s1,0],\\\n",
    "   [s1,c1,0],\\\n",
    "   [0,0,1]])\n",
    "\n",
    "O2=np.matrix([[c2,0,-s2],\\\n",
    "   [0,1,0],\\\n",
    "   [s2,0,c2]])\n",
    "\n",
    "O3=np.matrix([[1,0,0],\\\n",
    "   [0,c3,-s3],\\\n",
    "   [0,s3,c3]])\n",
    "\n",
    "\n",
    "R=O1*O2*O3\n",
    "\n",
    "ViewMath(sp.simplify(R*R.T))\n"
   ]
  },
  {
   "cell_type": "markdown",
   "metadata": {},
   "source": [
    "# The General N-dimensional case\n",
    "\n",
    "The transformation matrix on a plane $\\langle i,j \\rangle$, $R$, can be written \n",
    "as the rotations that affects only the i,j components of a vector $(\\dots,x_i,\\dots,x_j)$.\n",
    "\n",
    "This means that $R_{ii}=R_{ii}=cos(\\theta)$ and $R_{ij}=-R_{ji}=-sin(\\theta)$, every other component of $R$\n",
    "is either 0 --if the indices are note the same-- or 1 --if the indices are the same.\n",
    "\n",
    "The function R(dimN,i,j) does that!\n",
    "\n",
    "\n"
   ]
  },
  {
   "cell_type": "code",
   "execution_count": null,
   "metadata": {
    "collapsed": true
   },
   "outputs": [],
   "source": []
  },
  {
   "cell_type": "code",
   "execution_count": 91,
   "metadata": {},
   "outputs": [],
   "source": [
    "def R(N,i,j,TAN=True):\n",
    "    \n",
    "    if i == j or i>N or i==0 or j==0:\n",
    "        print 'Plane indices incorrect.'\n",
    "        return 'Error'\n",
    "        \n",
    "\n",
    "    else:\n",
    "        if i>j:\n",
    "            i1=j\n",
    "            i2=i\n",
    "        if i<j:\n",
    "            i1=i\n",
    "            i2=j\n",
    "        if TAN:\n",
    "            \n",
    "            t=sp.Symbol('t{0}{1}'.format(i1,i2),real=True)\n",
    "            c=1/sp.sqrt(t**2+1)\n",
    "            s=t/sp.sqrt(t**2+1)\n",
    "        else:\n",
    "            t=sp.Symbol('theta_{0}{1}'.format(i1,i2),real=True)\n",
    "            c,s=sp.cos(t),sp.sin(t)\n",
    "            \n",
    "        tmpM=np.identity(N,dtype=object)\n",
    "        \n",
    "        \n",
    "        tmpM[i1-1][i1-1]=c\n",
    "        tmpM[i2-1][i2-1]=c\n",
    "        tmpM[i1-1][i2-1]=-s\n",
    "        tmpM[i2-1][i1-1]=s\n",
    "        return np.matrix(tmpM)"
   ]
  },
  {
   "cell_type": "code",
   "execution_count": 103,
   "metadata": {},
   "outputs": [
    {
     "name": "stdout",
     "output_type": "stream",
     "text": [
      "⎡      1            -t₁₂           ⎤\n",
      "⎢─────────────  ─────────────  0  0⎥\n",
      "⎢   __________     __________      ⎥\n",
      "⎢  ╱    2         ╱    2           ⎥\n",
      "⎢╲╱  t₁₂  + 1   ╲╱  t₁₂  + 1       ⎥\n",
      "⎢                                  ⎥\n",
      "⎢     t₁₂             1            ⎥\n",
      "⎢─────────────  ─────────────  0  0⎥\n",
      "⎢   __________     __________      ⎥\n",
      "⎢  ╱    2         ╱    2           ⎥\n",
      "⎢╲╱  t₁₂  + 1   ╲╱  t₁₂  + 1       ⎥\n",
      "⎢                                  ⎥\n",
      "⎢      0              0        1  0⎥\n",
      "⎢                                  ⎥\n",
      "⎣      0              0        0  1⎦\n",
      "⎡      1               -t₁₃        ⎤\n",
      "⎢─────────────  0  ─────────────  0⎥\n",
      "⎢   __________        __________   ⎥\n",
      "⎢  ╱    2            ╱    2        ⎥\n",
      "⎢╲╱  t₁₃  + 1      ╲╱  t₁₃  + 1    ⎥\n",
      "⎢                                  ⎥\n",
      "⎢      0        1        0        0⎥\n",
      "⎢                                  ⎥\n",
      "⎢     t₁₃                1         ⎥\n",
      "⎢─────────────  0  ─────────────  0⎥\n",
      "⎢   __________        __________   ⎥\n",
      "⎢  ╱    2            ╱    2        ⎥\n",
      "⎢╲╱  t₁₃  + 1      ╲╱  t₁₃  + 1    ⎥\n",
      "⎢                                  ⎥\n",
      "⎣      0        0        0        1⎦\n",
      "⎡      1                  -t₁₄     ⎤\n",
      "⎢─────────────  0  0  ─────────────⎥\n",
      "⎢   __________           __________⎥\n",
      "⎢  ╱    2               ╱    2     ⎥\n",
      "⎢╲╱  t₁₄  + 1         ╲╱  t₁₄  + 1 ⎥\n",
      "⎢                                  ⎥\n",
      "⎢      0        1  0        0      ⎥\n",
      "⎢                                  ⎥\n",
      "⎢      0        0  1        0      ⎥\n",
      "⎢                                  ⎥\n",
      "⎢     t₁₄                   1      ⎥\n",
      "⎢─────────────  0  0  ─────────────⎥\n",
      "⎢   __________           __________⎥\n",
      "⎢  ╱    2               ╱    2     ⎥\n",
      "⎣╲╱  t₁₄  + 1         ╲╱  t₁₄  + 1 ⎦\n",
      "⎡1        0              0        0⎤\n",
      "⎢                                  ⎥\n",
      "⎢         1            -t₂₃        ⎥\n",
      "⎢0  ─────────────  ─────────────  0⎥\n",
      "⎢      __________     __________   ⎥\n",
      "⎢     ╱    2         ╱    2        ⎥\n",
      "⎢   ╲╱  t₂₃  + 1   ╲╱  t₂₃  + 1    ⎥\n",
      "⎢                                  ⎥\n",
      "⎢        t₂₃             1         ⎥\n",
      "⎢0  ─────────────  ─────────────  0⎥\n",
      "⎢      __________     __________   ⎥\n",
      "⎢     ╱    2         ╱    2        ⎥\n",
      "⎢   ╲╱  t₂₃  + 1   ╲╱  t₂₃  + 1    ⎥\n",
      "⎢                                  ⎥\n",
      "⎣0        0              0        1⎦\n",
      "⎡1        0        0        0      ⎤\n",
      "⎢                                  ⎥\n",
      "⎢         1               -t₂₄     ⎥\n",
      "⎢0  ─────────────  0  ─────────────⎥\n",
      "⎢      __________        __________⎥\n",
      "⎢     ╱    2            ╱    2     ⎥\n",
      "⎢   ╲╱  t₂₄  + 1      ╲╱  t₂₄  + 1 ⎥\n",
      "⎢                                  ⎥\n",
      "⎢0        0        1        0      ⎥\n",
      "⎢                                  ⎥\n",
      "⎢        t₂₄                1      ⎥\n",
      "⎢0  ─────────────  0  ─────────────⎥\n",
      "⎢      __________        __________⎥\n",
      "⎢     ╱    2            ╱    2     ⎥\n",
      "⎣   ╲╱  t₂₄  + 1      ╲╱  t₂₄  + 1 ⎦\n",
      "⎡1  0        0              0      ⎤\n",
      "⎢                                  ⎥\n",
      "⎢0  1        0              0      ⎥\n",
      "⎢                                  ⎥\n",
      "⎢            1            -t₃₄     ⎥\n",
      "⎢0  0  ─────────────  ─────────────⎥\n",
      "⎢         __________     __________⎥\n",
      "⎢        ╱    2         ╱    2     ⎥\n",
      "⎢      ╲╱  t₃₄  + 1   ╲╱  t₃₄  + 1 ⎥\n",
      "⎢                                  ⎥\n",
      "⎢           t₃₄             1      ⎥\n",
      "⎢0  0  ─────────────  ─────────────⎥\n",
      "⎢         __________     __________⎥\n",
      "⎢        ╱    2         ╱    2     ⎥\n",
      "⎣      ╲╱  t₃₄  + 1   ╲╱  t₃₄  + 1 ⎦\n"
     ]
    }
   ],
   "source": [
    "N=4\n",
    "Tan=True\n",
    "for i in np.arange(1,N+1):\n",
    "    for j in np.arange(i+1,N+1):\n",
    "        sp.pprint(sp.Matrix(R(N,i,j,TAN=Tan)))\n",
    "        if i==1 and j==2:\n",
    "            a=np.array(R(N,i,j,TAN=Tan))\n",
    "        else:    \n",
    "            a=np.vstack((a,np.array(R(N,i,j,TAN=Tan))))\n",
    "            \n",
    "a=a.reshape((N*(N-1)/2,N,N))            "
   ]
  },
  {
   "cell_type": "code",
   "execution_count": 104,
   "metadata": {},
   "outputs": [
    {
     "data": {
      "text/latex": [
       "$$\\left[\\begin{matrix}\\frac{1}{\\sqrt{t_{12}^{2} + 1} \\sqrt{t_{13}^{2} + 1} \\sqrt{t_{14}^{2} + 1}} & - \\frac{t_{14} t_{24}}{\\sqrt{t_{12}^{2} + 1} \\sqrt{t_{13}^{2} + 1} \\sqrt{t_{14}^{2} + 1} \\sqrt{t_{24}^{2} + 1}} + \\frac{1}{\\sqrt{t_{24}^{2} + 1}} \\left(- \\frac{t_{12}}{\\sqrt{t_{12}^{2} + 1} \\sqrt{t_{23}^{2} + 1}} - \\frac{t_{13} t_{23}}{\\sqrt{t_{12}^{2} + 1} \\sqrt{t_{13}^{2} + 1} \\sqrt{t_{23}^{2} + 1}}\\right) & \\frac{t_{34}}{\\sqrt{t_{34}^{2} + 1}} \\left(- \\frac{t_{14}}{\\sqrt{t_{12}^{2} + 1} \\sqrt{t_{13}^{2} + 1} \\sqrt{t_{14}^{2} + 1} \\sqrt{t_{24}^{2} + 1}} - \\frac{t_{24}}{\\sqrt{t_{24}^{2} + 1}} \\left(- \\frac{t_{12}}{\\sqrt{t_{12}^{2} + 1} \\sqrt{t_{23}^{2} + 1}} - \\frac{t_{13} t_{23}}{\\sqrt{t_{12}^{2} + 1} \\sqrt{t_{13}^{2} + 1} \\sqrt{t_{23}^{2} + 1}}\\right)\\right) + \\frac{1}{\\sqrt{t_{34}^{2} + 1}} \\left(\\frac{t_{12} t_{23}}{\\sqrt{t_{12}^{2} + 1} \\sqrt{t_{23}^{2} + 1}} - \\frac{t_{13}}{\\sqrt{t_{12}^{2} + 1} \\sqrt{t_{13}^{2} + 1} \\sqrt{t_{23}^{2} + 1}}\\right) & - \\frac{t_{34}}{\\sqrt{t_{34}^{2} + 1}} \\left(\\frac{t_{12} t_{23}}{\\sqrt{t_{12}^{2} + 1} \\sqrt{t_{23}^{2} + 1}} - \\frac{t_{13}}{\\sqrt{t_{12}^{2} + 1} \\sqrt{t_{13}^{2} + 1} \\sqrt{t_{23}^{2} + 1}}\\right) + \\frac{1}{\\sqrt{t_{34}^{2} + 1}} \\left(- \\frac{t_{14}}{\\sqrt{t_{12}^{2} + 1} \\sqrt{t_{13}^{2} + 1} \\sqrt{t_{14}^{2} + 1} \\sqrt{t_{24}^{2} + 1}} - \\frac{t_{24}}{\\sqrt{t_{24}^{2} + 1}} \\left(- \\frac{t_{12}}{\\sqrt{t_{12}^{2} + 1} \\sqrt{t_{23}^{2} + 1}} - \\frac{t_{13} t_{23}}{\\sqrt{t_{12}^{2} + 1} \\sqrt{t_{13}^{2} + 1} \\sqrt{t_{23}^{2} + 1}}\\right)\\right)\\\\\\frac{t_{12}}{\\sqrt{t_{12}^{2} + 1} \\sqrt{t_{13}^{2} + 1} \\sqrt{t_{14}^{2} + 1}} & - \\frac{t_{12} t_{14} t_{24}}{\\sqrt{t_{12}^{2} + 1} \\sqrt{t_{13}^{2} + 1} \\sqrt{t_{14}^{2} + 1} \\sqrt{t_{24}^{2} + 1}} + \\frac{1}{\\sqrt{t_{24}^{2} + 1}} \\left(- \\frac{t_{12} t_{13} t_{23}}{\\sqrt{t_{12}^{2} + 1} \\sqrt{t_{13}^{2} + 1} \\sqrt{t_{23}^{2} + 1}} + \\frac{1}{\\sqrt{t_{12}^{2} + 1} \\sqrt{t_{23}^{2} + 1}}\\right) & \\frac{t_{34}}{\\sqrt{t_{34}^{2} + 1}} \\left(- \\frac{t_{12} t_{14}}{\\sqrt{t_{12}^{2} + 1} \\sqrt{t_{13}^{2} + 1} \\sqrt{t_{14}^{2} + 1} \\sqrt{t_{24}^{2} + 1}} - \\frac{t_{24}}{\\sqrt{t_{24}^{2} + 1}} \\left(- \\frac{t_{12} t_{13} t_{23}}{\\sqrt{t_{12}^{2} + 1} \\sqrt{t_{13}^{2} + 1} \\sqrt{t_{23}^{2} + 1}} + \\frac{1}{\\sqrt{t_{12}^{2} + 1} \\sqrt{t_{23}^{2} + 1}}\\right)\\right) + \\frac{1}{\\sqrt{t_{34}^{2} + 1}} \\left(- \\frac{t_{12} t_{13}}{\\sqrt{t_{12}^{2} + 1} \\sqrt{t_{13}^{2} + 1} \\sqrt{t_{23}^{2} + 1}} - \\frac{t_{23}}{\\sqrt{t_{12}^{2} + 1} \\sqrt{t_{23}^{2} + 1}}\\right) & - \\frac{t_{34}}{\\sqrt{t_{34}^{2} + 1}} \\left(- \\frac{t_{12} t_{13}}{\\sqrt{t_{12}^{2} + 1} \\sqrt{t_{13}^{2} + 1} \\sqrt{t_{23}^{2} + 1}} - \\frac{t_{23}}{\\sqrt{t_{12}^{2} + 1} \\sqrt{t_{23}^{2} + 1}}\\right) + \\frac{1}{\\sqrt{t_{34}^{2} + 1}} \\left(- \\frac{t_{12} t_{14}}{\\sqrt{t_{12}^{2} + 1} \\sqrt{t_{13}^{2} + 1} \\sqrt{t_{14}^{2} + 1} \\sqrt{t_{24}^{2} + 1}} - \\frac{t_{24}}{\\sqrt{t_{24}^{2} + 1}} \\left(- \\frac{t_{12} t_{13} t_{23}}{\\sqrt{t_{12}^{2} + 1} \\sqrt{t_{13}^{2} + 1} \\sqrt{t_{23}^{2} + 1}} + \\frac{1}{\\sqrt{t_{12}^{2} + 1} \\sqrt{t_{23}^{2} + 1}}\\right)\\right)\\\\\\frac{t_{13}}{\\sqrt{t_{13}^{2} + 1} \\sqrt{t_{14}^{2} + 1}} & - \\frac{t_{13} t_{14} t_{24}}{\\sqrt{t_{13}^{2} + 1} \\sqrt{t_{14}^{2} + 1} \\sqrt{t_{24}^{2} + 1}} + \\frac{t_{23}}{\\sqrt{t_{13}^{2} + 1} \\sqrt{t_{23}^{2} + 1} \\sqrt{t_{24}^{2} + 1}} & \\frac{t_{34}}{\\sqrt{t_{34}^{2} + 1}} \\left(- \\frac{t_{13} t_{14}}{\\sqrt{t_{13}^{2} + 1} \\sqrt{t_{14}^{2} + 1} \\sqrt{t_{24}^{2} + 1}} - \\frac{t_{23} t_{24}}{\\sqrt{t_{13}^{2} + 1} \\sqrt{t_{23}^{2} + 1} \\sqrt{t_{24}^{2} + 1}}\\right) + \\frac{1}{\\sqrt{t_{13}^{2} + 1} \\sqrt{t_{23}^{2} + 1} \\sqrt{t_{34}^{2} + 1}} & - \\frac{t_{34}}{\\sqrt{t_{13}^{2} + 1} \\sqrt{t_{23}^{2} + 1} \\sqrt{t_{34}^{2} + 1}} + \\frac{1}{\\sqrt{t_{34}^{2} + 1}} \\left(- \\frac{t_{13} t_{14}}{\\sqrt{t_{13}^{2} + 1} \\sqrt{t_{14}^{2} + 1} \\sqrt{t_{24}^{2} + 1}} - \\frac{t_{23} t_{24}}{\\sqrt{t_{13}^{2} + 1} \\sqrt{t_{23}^{2} + 1} \\sqrt{t_{24}^{2} + 1}}\\right)\\\\\\frac{t_{14}}{\\sqrt{t_{14}^{2} + 1}} & \\frac{t_{24}}{\\sqrt{t_{14}^{2} + 1} \\sqrt{t_{24}^{2} + 1}} & \\frac{t_{34}}{\\sqrt{t_{14}^{2} + 1} \\sqrt{t_{24}^{2} + 1} \\sqrt{t_{34}^{2} + 1}} & \\frac{1}{\\sqrt{t_{14}^{2} + 1} \\sqrt{t_{24}^{2} + 1} \\sqrt{t_{34}^{2} + 1}}\\end{matrix}\\right]$$"
      ],
      "text/plain": [
       "<IPython.core.display.Math object>"
      ]
     },
     "execution_count": 104,
     "metadata": {},
     "output_type": "execute_result"
    }
   ],
   "source": [
    "f=1\n",
    "for i in np.arange(N*(N-1)/2):\n",
    "    f*=np.matrix(a[i]) \n",
    "ViewMath(sp.Matrix(f))"
   ]
  },
  {
   "cell_type": "code",
   "execution_count": 131,
   "metadata": {},
   "outputs": [
    {
     "data": {
      "text/plain": [
       "[[1, 0, 0, 0], [0, 1, 0, 0], [0, 0, 1, 0], [0, 0, 0, 1]]"
      ]
     },
     "execution_count": 131,
     "metadata": {},
     "output_type": "execute_result"
    }
   ],
   "source": [
    "sp.simplify(f*(f.T))"
   ]
  },
  {
   "cell_type": "code",
   "execution_count": null,
   "metadata": {
    "collapsed": true
   },
   "outputs": [],
   "source": []
  },
  {
   "cell_type": "code",
   "execution_count": null,
   "metadata": {},
   "outputs": [],
   "source": []
  },
  {
   "cell_type": "code",
   "execution_count": null,
   "metadata": {
    "collapsed": true
   },
   "outputs": [],
   "source": []
  }
 ],
 "metadata": {
  "kernelspec": {
   "display_name": "Python 2",
   "language": "python",
   "name": "python2"
  },
  "language_info": {
   "codemirror_mode": {
    "name": "ipython",
    "version": 2
   },
   "file_extension": ".py",
   "mimetype": "text/x-python",
   "name": "python",
   "nbconvert_exporter": "python",
   "pygments_lexer": "ipython2",
   "version": "2.7.13"
  }
 },
 "nbformat": 4,
 "nbformat_minor": 2
}
